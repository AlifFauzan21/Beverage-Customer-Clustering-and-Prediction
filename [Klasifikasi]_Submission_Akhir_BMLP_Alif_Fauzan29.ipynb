{
  "nbformat": 4,
  "nbformat_minor": 0,
  "metadata": {
    "colab": {
      "provenance": []
    },
    "kernelspec": {
      "name": "python3",
      "display_name": "Python 3"
    },
    "language_info": {
      "name": "python"
    }
  },
  "cells": [
    {
      "cell_type": "markdown",
      "source": [
        "# **1. Import Library**"
      ],
      "metadata": {
        "id": "fKADPWcFKlj3"
      }
    },
    {
      "cell_type": "markdown",
      "source": [
        "Pada tahap ini, Anda perlu mengimpor beberapa pustaka (library) Python yang dibutuhkan untuk analisis data dan pembangunan model machine learning."
      ],
      "metadata": {
        "id": "LgA3ERnVn84N"
      }
    },
    {
      "cell_type": "code",
      "source": [
        "#Type your code here\n",
        "import pandas as pd\n",
        "import numpy as np\n",
        "from sklearn.model_selection import train_test_split, GridSearchCV\n",
        "from sklearn.ensemble import RandomForestClassifier\n",
        "from sklearn.tree import DecisionTreeClassifier\n",
        "from sklearn.metrics import accuracy_score, f1_score, confusion_matrix\n",
        "import seaborn as sns\n",
        "import matplotlib.pyplot as plt\n",
        "from sklearn.preprocessing import LabelEncoder\n",
        "from sklearn.model_selection import train_test_split\n",
        "from xgboost import XGBClassifier\n",
        "from sklearn.metrics import classification_report, confusion_matrix, accuracy_score, f1_score"
      ],
      "metadata": {
        "id": "BlmvjLY9M4Yj"
      },
      "execution_count": 1,
      "outputs": []
    },
    {
      "cell_type": "markdown",
      "source": [
        "# **2. Memuat Dataset dari Hasil Clustering**"
      ],
      "metadata": {
        "id": "f3YIEnAFKrKL"
      }
    },
    {
      "cell_type": "markdown",
      "source": [
        "Memuat dataset hasil clustering dari file CSV ke dalam variabel DataFrame."
      ],
      "metadata": {
        "id": "Ey3ItwTen_7E"
      }
    },
    {
      "cell_type": "code",
      "source": [
        "#Type your code here\n",
        "# Muat kembali data hasil clustering\n",
        "\n",
        "# Gantilah path jika lokasi file berbeda\n",
        "df_clustered = pd.read_csv('hasil_clustering_beverage.csv')\n",
        "\n",
        "# Cek struktur awal data\n",
        "print(\"✅ Dataset berhasil dimuat!\")\n",
        "print(\"Jumlah baris dan kolom:\", df_clustered.shape)\n",
        "print(\"\\n📄 5 baris pertama:\")\n",
        "print(df_clustered.head())"
      ],
      "metadata": {
        "id": "GHCGNTyrM5fS",
        "colab": {
          "base_uri": "https://localhost:8080/"
        },
        "outputId": "d8cdb762-4a71-48a3-9afe-6d51d1887984"
      },
      "execution_count": 2,
      "outputs": [
        {
          "output_type": "stream",
          "name": "stdout",
          "text": [
            "✅ Dataset berhasil dimuat!\n",
            "Jumlah baris dan kolom: (112025, 13)\n",
            "\n",
            "📄 5 baris pertama:\n",
            "  Order_ID Customer_ID Customer_Type         Product     Category  Unit_Price  \\\n",
            "0     ORD1     CUS1496           B2B    Gerolsteiner        Water        0.87   \n",
            "1     ORD3     CUS1806           B2B          Vittel        Water        0.43   \n",
            "2     ORD3     CUS1806           B2B           Evian        Water        1.38   \n",
            "3     ORD4     CUS2275           B2C    Mountain Dew  Soft Drinks        0.99   \n",
            "4     ORD5     CUS7919           B2B  Hohes C Orange       Juices        1.52   \n",
            "\n",
            "   Quantity  Discount  Total_Price             Region  Order_Date  \\\n",
            "0        35      0.10        27.40  Baden-Württemberg  2023-08-23   \n",
            "1        13      0.05         5.31            Hamburg  2022-11-20   \n",
            "2         3      0.05         3.93            Hamburg  2022-11-20   \n",
            "3        11      0.00        10.89             Bayern  2023-11-05   \n",
            "4         8      0.05        11.55             Bayern  2023-08-05   \n",
            "\n",
            "   Price_per_Unit  Cluster_KMeans  \n",
            "0        0.782857             1.0  \n",
            "1        0.408462             1.0  \n",
            "2        1.310000             1.0  \n",
            "3        0.990000             0.0  \n",
            "4        1.443750             1.0  \n"
          ]
        }
      ]
    },
    {
      "cell_type": "code",
      "source": [
        "# Cek apakah ada nilai NaN di kolom label\n",
        "print(\"Jumlah NaN di label Cluster_KMeans:\", df_clustered['Cluster_KMeans'].isna().sum())\n",
        "\n",
        "# Hapus baris yang memiliki NaN di label\n",
        "df_clustered = df_clustered.dropna(subset=['Cluster_KMeans'])\n",
        "\n",
        "# Define fitur_klasifikasi before using it\n",
        "fitur_klasifikasi = ['Unit_Price', 'Quantity', 'Discount', 'Total_Price', 'Price_per_Unit']\n",
        "\n",
        "# Ulangi proses pemisahan fitur dan label\n",
        "X = df_clustered[fitur_klasifikasi]\n",
        "y = df_clustered['Cluster_KMeans']"
      ],
      "metadata": {
        "colab": {
          "base_uri": "https://localhost:8080/"
        },
        "id": "Wof4bORuQCC1",
        "outputId": "32a52332-41aa-4b7c-873c-9689c7550154"
      },
      "execution_count": 3,
      "outputs": [
        {
          "output_type": "stream",
          "name": "stdout",
          "text": [
            "Jumlah NaN di label Cluster_KMeans: 1\n"
          ]
        }
      ]
    },
    {
      "cell_type": "markdown",
      "source": [
        "# **3. Data Splitting**"
      ],
      "metadata": {
        "id": "KkPem5eWL2UP"
      }
    },
    {
      "cell_type": "markdown",
      "source": [
        "Tahap Data Splitting bertujuan untuk memisahkan dataset menjadi dua bagian: data latih (training set) dan data uji (test set)."
      ],
      "metadata": {
        "id": "YYj1rl_JNI9Y"
      }
    },
    {
      "cell_type": "code",
      "source": [
        "# Pilih fitur numerik\n",
        "fitur_klasifikasi = ['Unit_Price', 'Quantity', 'Discount', 'Total_Price', 'Price_per_Unit']\n",
        "\n",
        "# X = fitur, y = label hasil clustering\n",
        "X = df_clustered[fitur_klasifikasi]\n",
        "y = df_clustered['Cluster_KMeans']\n",
        "\n",
        "# Split data\n",
        "X_train, X_test, y_train, y_test = train_test_split(\n",
        "    X, y, test_size=0.2, random_state=42, stratify=y\n",
        ")\n",
        "\n",
        "print(\"✅ Data berhasil dibagi!\")\n",
        "print(f\"Jumlah data latih: {len(X_train)}\")\n",
        "print(f\"Jumlah data uji: {len(X_test)}\")"
      ],
      "metadata": {
        "id": "OubAW-7ONKVj",
        "colab": {
          "base_uri": "https://localhost:8080/"
        },
        "outputId": "c5687134-7925-447e-b550-c98d4050cecd"
      },
      "execution_count": 4,
      "outputs": [
        {
          "output_type": "stream",
          "name": "stdout",
          "text": [
            "✅ Data berhasil dibagi!\n",
            "Jumlah data latih: 89619\n",
            "Jumlah data uji: 22405\n"
          ]
        }
      ]
    },
    {
      "cell_type": "markdown",
      "source": [
        "# **4. Membangun Model Klasifikasi**\n"
      ],
      "metadata": {
        "id": "IVPbB03CMhTT"
      }
    },
    {
      "cell_type": "markdown",
      "source": [
        "## **a. Membangun Model Klasifikasi**"
      ],
      "metadata": {
        "id": "Ned1pL9zMmBK"
      }
    },
    {
      "cell_type": "markdown",
      "source": [
        "Setelah memilih algoritma klasifikasi yang sesuai, langkah selanjutnya adalah melatih model menggunakan data latih.\n",
        "\n",
        "Berikut adalah rekomendasi tahapannya.\n",
        "1. Pilih algoritma klasifikasi yang sesuai, seperti Logistic Regression, Decision Tree, Random Forest, atau K-Nearest Neighbors (KNN).\n",
        "2. Latih model menggunakan data latih."
      ],
      "metadata": {
        "id": "WAWzPOE4Nkti"
      }
    },
    {
      "cell_type": "code",
      "source": [
        "# Inisialisasi model\n",
        "rf_model = RandomForestClassifier(random_state=42)\n",
        "\n",
        "# Latih model\n",
        "rf_model.fit(X_train, y_train)\n",
        "\n",
        "# Prediksi\n",
        "y_pred_rf = rf_model.predict(X_test)"
      ],
      "metadata": {
        "id": "4JYxBe87NLDk"
      },
      "execution_count": 5,
      "outputs": []
    },
    {
      "cell_type": "code",
      "source": [
        "# Inisialisasi model\n",
        "xgb_model = XGBClassifier(use_label_encoder=False, eval_metric='mlogloss', random_state=42)\n",
        "\n",
        "# Latih model\n",
        "xgb_model.fit(X_train, y_train)\n",
        "\n",
        "# Prediksi\n",
        "y_pred_xgb = xgb_model.predict(X_test)"
      ],
      "metadata": {
        "colab": {
          "base_uri": "https://localhost:8080/"
        },
        "id": "F7Jit9XBf0df",
        "outputId": "491f1ca9-7589-47e4-9d42-a701a6daa6ee"
      },
      "execution_count": 6,
      "outputs": [
        {
          "output_type": "stream",
          "name": "stderr",
          "text": [
            "/usr/local/lib/python3.11/dist-packages/xgboost/core.py:158: UserWarning: [16:38:53] WARNING: /workspace/src/learner.cc:740: \n",
            "Parameters: { \"use_label_encoder\" } are not used.\n",
            "\n",
            "  warnings.warn(smsg, UserWarning)\n"
          ]
        }
      ]
    },
    {
      "cell_type": "markdown",
      "source": [
        "Tulis narasi atau penjelasan algoritma yang Anda gunakan.\n",
        "\n",
        "📖 Penjelasan Algoritma:\n",
        "\n",
        "Random Forest adalah algoritma ensemble learning yang terdiri dari banyak pohon keputusan (decision trees). Setiap pohon dilatih secara acak dari subset data, dan hasil akhirnya ditentukan melalui voting mayoritas. Algoritma ini terkenal kuat terhadap overfitting dan dapat menangani dataset dengan fitur numerik dan kategorikal secara efektif.\n",
        "\n",
        "XGBoost (Extreme Gradient Boosting) adalah algoritma boosting yang dirancang untuk efisiensi dan kecepatan tinggi. Ia bekerja dengan membangun pohon keputusan secara bertahap dan meminimalkan kesalahan pada setiap iterasi. Model ini sangat unggul dalam menangani dataset besar dan kompleks dengan performa prediksi tinggi. XGBoost juga menawarkan berbagai parameter tuning untuk mengontrol kompleksitas dan overfitting.\n",
        "\n",
        "\n",
        "\n",
        "\n",
        "\n",
        "\n",
        "\n",
        "\n",
        "\n",
        "\n"
      ],
      "metadata": {
        "id": "seYoHNY3XU1y"
      }
    },
    {
      "cell_type": "markdown",
      "source": [
        "## **b. Evaluasi Model Klasifikasi**"
      ],
      "metadata": {
        "id": "ergzChZFEL-O"
      }
    },
    {
      "cell_type": "markdown",
      "source": [
        "Berikut adalah **rekomendasi** tahapannya.\n",
        "1. Lakukan prediksi menggunakan data uji.\n",
        "2. Hitung metrik evaluasi seperti Accuracy dan F1-Score (Opsional: Precision dan Recall).\n",
        "3. Buat confusion matrix untuk melihat detail prediksi benar dan salah."
      ],
      "metadata": {
        "id": "zOm68u-7NpLT"
      }
    },
    {
      "cell_type": "code",
      "source": [
        "# Prediksi Random Forest\n",
        "y_pred_rf = rf_model.predict(X_test)\n",
        "\n",
        "# Evaluasi Random Forest\n",
        "print(\"📊 Evaluasi Model: Random Forest\")\n",
        "print(\"✅ Accuracy:\", round(accuracy_score(y_test, y_pred_rf), 4))\n",
        "print(\"✅ F1-Score (macro):\", round(f1_score(y_test, y_pred_rf, average='macro'), 4))\n",
        "print(\"📋 Classification Report:\\n\", classification_report(y_test, y_pred_rf))\n",
        "\n",
        "# Confusion matrix\n",
        "plt.figure(figsize=(8, 6))\n",
        "sns.heatmap(confusion_matrix(y_test, y_pred_rf), annot=True, fmt='d', cmap='Blues')\n",
        "plt.title('Confusion Matrix: Random Forest')\n",
        "plt.xlabel('Predicted Label')\n",
        "plt.ylabel('True Label')\n",
        "plt.show()"
      ],
      "metadata": {
        "id": "tMq4QAssNLip",
        "colab": {
          "base_uri": "https://localhost:8080/",
          "height": 790
        },
        "outputId": "feb4c2be-c9af-4986-87ed-440beea5bf8e"
      },
      "execution_count": 7,
      "outputs": [
        {
          "output_type": "stream",
          "name": "stdout",
          "text": [
            "📊 Evaluasi Model: Random Forest\n",
            "✅ Accuracy: 1.0\n",
            "✅ F1-Score (macro): 1.0\n",
            "📋 Classification Report:\n",
            "               precision    recall  f1-score   support\n",
            "\n",
            "         0.0       1.00      1.00      1.00     18129\n",
            "         1.0       1.00      1.00      1.00      4276\n",
            "\n",
            "    accuracy                           1.00     22405\n",
            "   macro avg       1.00      1.00      1.00     22405\n",
            "weighted avg       1.00      1.00      1.00     22405\n",
            "\n"
          ]
        },
        {
          "output_type": "display_data",
          "data": {
            "text/plain": [
              "<Figure size 800x600 with 2 Axes>"
            ],
            "image/png": "[encoded data removed]"
          },
          "metadata": {}
        }
      ]
    },
    {
      "cell_type": "code",
      "source": [
        "# Prediksi XGBoost\n",
        "y_pred_xgb = xgb_model.predict(X_test)\n",
        "\n",
        "# Evaluasi XGBoost\n",
        "print(\"📊 Evaluasi Model: XGBoost\")\n",
        "print(\"✅ Accuracy:\", round(accuracy_score(y_test, y_pred_xgb), 4))\n",
        "print(\"✅ F1-Score (macro):\", round(f1_score(y_test, y_pred_xgb, average='macro'), 4))\n",
        "print(\"📋 Classification Report:\\n\", classification_report(y_test, y_pred_xgb))\n",
        "\n",
        "# Confusion matrix\n",
        "plt.figure(figsize=(8, 6))\n",
        "sns.heatmap(confusion_matrix(y_test, y_pred_xgb), annot=True, fmt='d', cmap='Greens')\n",
        "plt.title('Confusion Matrix: XGBoost')\n",
        "plt.xlabel('Predicted Label')\n",
        "plt.ylabel('True Label')\n",
        "plt.show()"
      ],
      "metadata": {
        "colab": {
          "base_uri": "https://localhost:8080/",
          "height": 790
        },
        "id": "_sc2zGVqgLVy",
        "outputId": "f2943635-224f-4692-bc9d-0d938f6f047f"
      },
      "execution_count": 8,
      "outputs": [
        {
          "output_type": "stream",
          "name": "stdout",
          "text": [
            "📊 Evaluasi Model: XGBoost\n",
            "✅ Accuracy: 1.0\n",
            "✅ F1-Score (macro): 1.0\n",
            "📋 Classification Report:\n",
            "               precision    recall  f1-score   support\n",
            "\n",
            "         0.0       1.00      1.00      1.00     18129\n",
            "         1.0       1.00      1.00      1.00      4276\n",
            "\n",
            "    accuracy                           1.00     22405\n",
            "   macro avg       1.00      1.00      1.00     22405\n",
            "weighted avg       1.00      1.00      1.00     22405\n",
            "\n"
          ]
        },
        {
          "output_type": "display_data",
          "data": {
            "text/plain": [
              "<Figure size 800x600 with 2 Axes>"
            ],
            "image/png": "[encoded data removed]"
          },
          "metadata": {}
        }
      ]
    },
    {
      "cell_type": "markdown",
      "source": [
        "Tulis hasil evaluasi algoritma yang digunakan, jika Anda menggunakan 2 algoritma, maka bandingkan hasilnya."
      ],
      "metadata": {
        "id": "H4_9OwrsXZlz"
      }
    },
    {
      "cell_type": "markdown",
      "source": [
        "\n",
        "\n",
        "---\n",
        "\n",
        "## 🔍 **Evaluasi dan Perbandingan Model Klasifikasi**\n",
        "\n",
        "### 1. **Random Forest (Model Terbaik)**\n",
        "Random Forest adalah algoritma ensemble yang membangun banyak pohon keputusan (decision trees) dan menggabungkan hasilnya untuk meningkatkan akurasi prediksi serta mengurangi overfitting.\n",
        "\n",
        "📈 **Hasil Evaluasi**:\n",
        "- **Accuracy**: 100%\n",
        "- **F1-Score (macro average)**: 1.00\n",
        "- **Classification Report**:\n",
        "  - Semua kelas mendapatkan skor precision, recall, dan f1-score sebesar **1.00**\n",
        "- **Confusion Matrix**: Semua prediksi benar tanpa kesalahan klasifikasi antar kelas.\n",
        "\n",
        "📌 **Kelebihan**:\n",
        "- Mudah digunakan\n",
        "- Tidak butuh scaling data\n",
        "- Sangat baik untuk dataset besar dan kompleks\n",
        "\n",
        "---\n",
        "\n",
        "### 2. **XGBoost (Model Paling Kompleks)**\n",
        "XGBoost (Extreme Gradient Boosting) adalah algoritma boosting yang sangat kuat, dirancang untuk efisiensi komputasi dan performa prediktif yang tinggi. Ini adalah salah satu algoritma paling kompleks dan canggih dalam supervised learning.\n",
        "\n",
        "📈 **Hasil Evaluasi**:\n",
        "- **Accuracy**: 100%\n",
        "- **F1-Score (macro average)**: 1.00\n",
        "- **Classification Report**:\n",
        "  - Sama seperti Random Forest, semua metrik evaluasi mencapai nilai sempurna\n",
        "- **Confusion Matrix**: Tidak ditemukan kesalahan prediksi antar kelas.\n",
        "\n",
        "📌 **Kelebihan**:\n",
        "- Performa tinggi pada kompetisi dan industri\n",
        "- Mendukung regularisasi (mengurangi overfitting)\n",
        "- Efisien dalam waktu pelatihan dan penggunaan memori\n",
        "\n",
        "---\n",
        "\n",
        "## 📊 **Kesimpulan Perbandingan**\n",
        "\n",
        "| Aspek                  | Random Forest         | XGBoost                 |\n",
        "|------------------------|------------------------|--------------------------|\n",
        "| **Akurasi**            | ✅ 100%                 | ✅ 100%                   |\n",
        "| **F1-Score (macro)**   | ✅ 1.00                 | ✅ 1.00                   |\n",
        "| **Kompleksitas Model** | Sederhana              | Tinggi                   |\n",
        "| **Waktu Latih**        | Lebih cepat            | Lebih lambat             |\n",
        "| **Kemampuan Generalisasi** | Sangat Baik        | Sangat Baik              |\n",
        "\n",
        "🎯 **Catatan Penting**:  \n",
        "Kedua model mampu mempelajari data dengan sangat baik (mungkin karena distribusi data yang jelas atau hasil clustering yang baik). Namun, dalam skenario nyata, perlu diuji lebih lanjut pada data baru (unseen data) untuk mengecek kemungkinan **overfitting**.\n"
      ],
      "metadata": {
        "id": "2hdF27_xgaEM"
      }
    },
    {
      "cell_type": "markdown",
      "source": [
        "## **c. Tuning Model Klasifikasi (Optional)**"
      ],
      "metadata": {
        "id": "ph9yIYDXEPuB"
      }
    },
    {
      "cell_type": "markdown",
      "source": [
        "Gunakan GridSearchCV, RandomizedSearchCV, atau metode lainnya untuk mencari kombinasi hyperparameter terbaik"
      ],
      "metadata": {
        "id": "-Bikx3LINv5e"
      }
    },
    {
      "cell_type": "code",
      "source": [
        "#Type your code here"
      ],
      "metadata": {
        "id": "winbFzb8NL95"
      },
      "execution_count": null,
      "outputs": []
    },
    {
      "cell_type": "markdown",
      "source": [
        "## **d. Evaluasi Model Klasifikasi setelah Tuning (Optional)**"
      ],
      "metadata": {
        "id": "hE7pqlEPEYzI"
      }
    },
    {
      "cell_type": "markdown",
      "source": [
        "Berikut adalah rekomendasi tahapannya.\n",
        "1. Gunakan model dengan hyperparameter terbaik.\n",
        "2. Hitung ulang metrik evaluasi untuk melihat apakah ada peningkatan performa."
      ],
      "metadata": {
        "id": "feaPESoeN0zz"
      }
    },
    {
      "cell_type": "code",
      "source": [
        "#Type your code here"
      ],
      "metadata": {
        "id": "HTXZRvEeNMb1"
      },
      "execution_count": null,
      "outputs": []
    },
    {
      "cell_type": "markdown",
      "source": [
        "## **e. Analisis Hasil Evaluasi Model Klasifikasi**"
      ],
      "metadata": {
        "id": "ZRsOdm4uEgAW"
      }
    },
    {
      "cell_type": "markdown",
      "source": [
        "Berikut adalah **rekomendasi** tahapannya.\n",
        "1. Bandingkan hasil evaluasi sebelum dan setelah tuning (jika dilakukan).\n",
        "2. Identifikasi kelemahan model, seperti:\n",
        "  - Precision atau Recall rendah untuk kelas tertentu.\n",
        "  - Apakah model mengalami overfitting atau underfitting?\n",
        "3. Berikan rekomendasi tindakan lanjutan, seperti mengumpulkan data tambahan atau mencoba algoritma lain jika hasil belum memuaskan."
      ],
      "metadata": {
        "id": "Hm3BhSi6N4_l"
      }
    },
    {
      "cell_type": "markdown",
      "source": [
        "\n",
        "\n",
        "---\n",
        "\n",
        "## 🔎 **e. Analisis Hasil Evaluasi Model Klasifikasi**\n",
        "\n",
        "\n",
        "\n",
        "### 1. **Identifikasi Kelemahan Model**\n",
        "Berdasarkan hasil evaluasi:\n",
        "\n",
        "- **Akurasi dan f1-score untuk kedua model mencapai 1.0** secara keseluruhan, baik secara makro maupun weighted.\n",
        "- **Confusion matrix menunjukkan bahwa semua prediksi tepat 100%** tanpa adanya kesalahan klasifikasi di tiap label.\n",
        "\n",
        "Namun demikian, hasil yang sangat sempurna ini juga perlu dianalisis secara kritis:\n",
        "\n",
        "- 🔍 **Potensi Overfitting**: Kemungkinan besar model terlalu menyesuaikan data latih dan uji, terutama jika data yang digunakan sangat bersih atau terlalu mudah diklasifikasikan.\n",
        "- ❌ **Tidak terjadi underfitting**, karena model mampu mempelajari dan mengenali seluruh pola pada data secara akurat.\n",
        "\n",
        "### 2. **Rekomendasi Tindakan Lanjutan**\n",
        "Karena **tidak dilakukan proses evaluasi lanjutan**, tuning, atau pengujian terhadap data baru, maka saat ini belum ada langkah tambahan yang diambil.\n",
        "\n",
        "Namun sebagai catatan untuk pengembangan selanjutnya:\n",
        "- Diperlukan evaluasi menggunakan **cross-validation** atau **data uji eksternal** agar performa model lebih valid.\n",
        "- Hasil sempurna ini perlu diuji lebih lanjut terhadap **data yang lebih kompleks** atau mengandung **noise** untuk mengukur daya generalisasi model.\n",
        "\n",
        "---\n",
        "\n"
      ],
      "metadata": {
        "id": "fGO3ZIyFgefi"
      }
    }
  ]
}